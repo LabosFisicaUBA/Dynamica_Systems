{
 "cells": [
  {
   "cell_type": "code",
   "execution_count": null,
   "metadata": {},
   "outputs": [],
   "source": [
    "# Program 05a: Limit cycle for Fitzhugh-Nagumo.\n",
    "# See Figure 5.3.\n",
    "import matplotlib.pyplot as plt\n",
    "import numpy as np\n",
    "from scipy.integrate import odeint\n",
    "theta = 0.14\n",
    "omega = 0.112\n",
    "gamma = 2.54\n",
    "epsilon = 0.01;\n",
    "xmin = -0.5\n",
    "xmax = 1.5\n",
    "ymin = 0\n",
    "ymax = 0.3;\n",
    "def dx_dt(x, t):\n",
    "\treturn [-x[0] * (x[0] - theta) * (x[0] - 1) - x[1] + omega,\n",
    "epsilon * (x[0] - gamma * x[1])]\n",
    "# Trajectories in forward time.\n",
    "xs=odeint(dx_dt, [0.5, 0.09], np.linspace(0, 100, 1000))\n",
    "plt.figure(1)\n",
    "plt.plot(xs[:,0], xs[:,1], \"r-\")\n",
    "# Label the axes and set fontsizes.\n",
    "plt.xlabel('u', fontsize=15)\n",
    "plt.ylabel('v', fontsize=15)\n",
    "plt.tick_params(labelsize=15)\n",
    "plt.xlim(xmin, xmax)\n",
    "plt.ylim(ymin, ymax);\n",
    "# Plot the nullclines.\n",
    "x=np.arange(xmin, xmax, 0.01)\n",
    "plt.plot(x, x/gamma, 'b--', x, -x * (x - theta) * (x - 1)\n",
    "+ omega, 'b--')\n",
    "plt.show()"
   ]
  },
  {
   "cell_type": "code",
   "execution_count": null,
   "metadata": {},
   "outputs": [],
   "source": [
    "# Program 05b: Example 7, approximate solutions.\n",
    "# See Figure 5.9.\n",
    "from scipy.integrate import odeint\n",
    "import matplotlib.pyplot as plt\n",
    "import numpy as np\n",
    "eps=0.3\n",
    "def ODE(x, t):\n",
    "\treturn eps*x**2-x\n",
    "x0 = 2\n",
    "t = np.linspace(0, 10, 1000)\n",
    "sol = odeint(ODE, x0, t)\n",
    "x = np.array(sol).flatten()\n",
    "plt.plot(t,x,label='x(t)')\n",
    "plt.plot(t,2*np.exp(-t),label='O(1)')\n",
    "plt.plot(t,2*np.exp(-t)+4*eps*(np.exp(-t)-np.exp(-2*t)),label='O($\\epsilon $)')\n",
    "plt.plot(t,2*np.exp(-t)+4*eps*(np.exp(-t)-np.exp(-2*t))+ eps**2*8*(np.exp(-t)-2*np.exp(-2*t)+np.exp(-3*t)), \\\n",
    "label='O($\\epsilon^2$)')\n",
    "plt.xlabel('t', fontsize=15)\n",
    "plt.ylabel('x', fontsize=15)\n",
    "plt.tick_params(labelsize=15)\n",
    "plt.xlim(0, 8)\n",
    "plt.ylim(0, 2.1)\n",
    "plt.legend()\n",
    "plt.show()"
   ]
  },
  {
   "cell_type": "code",
   "execution_count": null,
   "metadata": {},
   "outputs": [],
   "source": [
    "# Program 05c: Error between xN and x0. See Figure 5.10.\n",
    "# Error between one term solution and numerical solution.\n",
    "from scipy.integrate import odeint\n",
    "import matplotlib.pyplot as plt\n",
    "import numpy as np\n",
    "def dx_dt(x,t):\n",
    "\treturn [x[1], 0.01 * x[0]**3 - x[0]]\n",
    "x0 = [1, 0]\n",
    "ts = np.linspace(0, 100, 2000)\n",
    "xs = odeint(dx_dt, x0, ts)\n",
    "xN = xs[:, 0]\n",
    "xpert0 = np.cos(ts)\n",
    "plt.plot(ts, xN - xpert0)\n",
    "plt.xlabel('t')\n",
    "plt.ylabel('$x_N-x_0$')\n",
    "plt.show()"
   ]
  },
  {
   "cell_type": "code",
   "execution_count": null,
   "metadata": {},
   "outputs": [],
   "source": [
    "# Program 05d: The Lindstedt-Poincare Method\n",
    "# Deriving the order epsilon equations.\n",
    "# See Example 9.\n",
    "from sympy import collect, expand, Function, Symbol\n",
    "x0 = Function('x0')\n",
    "x1 = Function('x1')\n",
    "x2 = Function('x2')\n",
    "x = Function('x')\n",
    "t = Symbol('t')\n",
    "eps = Symbol('eps')\n",
    "w1 = Symbol('w1')\n",
    "w2 = Symbol('w2')\n",
    "x = x0(t) + eps * x1(t) + eps ** 2 * x2(t)\n",
    "expr = (1 + eps * w1 + eps ** 2 * w2) **2 * x.diff(t, t) + x - eps * x ** 3\n",
    "expr = expand(expr)\n",
    "expr = collect(expr, eps)\n",
    "print(expr)"
   ]
  },
  {
   "cell_type": "code",
   "execution_count": null,
   "metadata": {},
   "outputs": [],
   "source": []
  }
 ],
 "metadata": {
  "kernelspec": {
   "display_name": "Python 3",
   "language": "python",
   "name": "python3"
  },
  "language_info": {
   "codemirror_mode": {
    "name": "ipython",
    "version": 3
   },
   "file_extension": ".py",
   "mimetype": "text/x-python",
   "name": "python",
   "nbconvert_exporter": "python",
   "pygments_lexer": "ipython3",
   "version": "3.6.5"
  }
 },
 "nbformat": 4,
 "nbformat_minor": 2
}
