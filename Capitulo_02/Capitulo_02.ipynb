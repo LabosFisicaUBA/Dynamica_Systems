{
 "cells": [
  {
   "cell_type": "code",
   "execution_count": null,
   "metadata": {},
   "outputs": [],
   "source": [
    "# Program 02a: A simple separable ODE. See Example 1.\n",
    "from sympy import dsolve, Eq, Function, symbols\n",
    "t = symbols('t')\n",
    "x = symbols('x', cls=Function)\n",
    "sol = dsolve(Eq(x(t).diff(t), -t/x(t)), x(t))\n",
    "print(sol)"
   ]
  },
  {
   "cell_type": "code",
   "execution_count": null,
   "metadata": {},
   "outputs": [],
   "source": [
    "# Program 02b: The logistic equation. See Example 3.\n",
    "from sympy import dsolve, Eq, Function, symbols\n",
    "t = symbols('t')\n",
    "a = symbols('a')\n",
    "b=symbols('b')\n",
    "P=symbols('P', cls=Function)\n",
    "sol=dsolve(Eq(P(t).diff(t), P(t)*(a - b * P(t))), P(t))\n",
    "print(sol)"
   ]
  },
  {
   "cell_type": "code",
   "execution_count": null,
   "metadata": {},
   "outputs": [],
   "source": [
    "# Program 02c : Power series solution first order ODE.\n",
    "# See Example 7.\n",
    "from sympy import dsolve, Function, pprint\n",
    "from sympy.abc import t\n",
    "x = Function('x')\n",
    "ODE1 = x(t).diff(t) + t*x(t) - t**3\n",
    "pprint(dsolve(ODE1, hint='1st_power_series', n=8, ics={x(0):1}))"
   ]
  },
  {
   "cell_type": "code",
   "execution_count": null,
   "metadata": {},
   "outputs": [],
   "source": [
    "# Program 02d : Power series solution of a second order ODE.\n",
    "# See Example 8.\n",
    "from sympy import dsolve, Function, pprint\n",
    "from sympy.abc import t\n",
    "x = Function('x')\n",
    "ODE2 = x(t).diff(t,2) + 2*t**2*x(t).diff(t) + x(t)\n",
    "pprint(dsolve(ODE2, hint='2nd_power_series_ordinary', n=6))"
   ]
  },
  {
   "cell_type": "code",
   "execution_count": null,
   "metadata": {},
   "outputs": [],
   "source": [
    "# Program 02e: Numerical and truncated series solutions.\n",
    "# See Figure 2.6.\n",
    "from scipy.integrate import odeint\n",
    "import matplotlib.pyplot as plt\n",
    "import numpy as np\n",
    "def ODE2(X, t):\n",
    "\tx = X[0]\n",
    "\ty = X[1]\n",
    "\tdxdt = y\n",
    "\tdydt = x-t**2*y\n",
    "\treturn [dxdt, dydt]\n",
    "\n",
    "X0 = [1, 0]\n",
    "t = np.linspace(0, 10, 1000)\n",
    "sol = odeint(ODE2, X0, t)\n",
    "x = sol[:, 0]\n",
    "y = sol[:, 1]\n",
    "plt.figure(1)\n",
    "fig, ax = plt.subplots()\n",
    "ax.plot(t,x,label='Numerical')\n",
    "ax.plot(t, 1 + t**2/2 + t**4/24, 'r-', label='Truncated series')\n",
    "plt.xlabel(\"t\", fontsize=15)\n",
    "plt.ylabel(\"x\", fontsize=15)\n",
    "plt.tick_params(labelsize=15)\n",
    "plt.xlim(0, 4)\n",
    "plt.ylim(0, 4)\n",
    "ax.legend(loc='lower center', shadow=True)\n",
    "plt.show()"
   ]
  },
  {
   "cell_type": "code",
   "execution_count": null,
   "metadata": {},
   "outputs": [],
   "source": [
    "# Program 02f: A linear first order ODE.\n",
    "from sympy import Function, dsolve, Eq, symbols, sin\n",
    "t = symbols('t');\n",
    "I = symbols('I', cls=Function)\n",
    "sol = dsolve(Eq(I(t).diff(t), 5*sin(t) - I(t)/5), I(t))\n",
    "print(sol)"
   ]
  },
  {
   "cell_type": "code",
   "execution_count": null,
   "metadata": {},
   "outputs": [],
   "source": [
    "# Program 02g: A second order ODE.\n",
    "from sympy import symbols, dsolve, Function, Eq, sin\n",
    "t = symbols('t');\n",
    "I = symbols('I', cls=Function)\n",
    "sol = dsolve(Eq(I(t).diff(t,t) + 5*I(t).diff(t) + 6*I(t),\n",
    "10*sin(t)),I(t))\n",
    "print(sol)"
   ]
  },
  {
   "cell_type": "code",
   "execution_count": null,
   "metadata": {},
   "outputs": [],
   "source": []
  }
 ],
 "metadata": {
  "kernelspec": {
   "display_name": "Python 3",
   "language": "python",
   "name": "python3"
  },
  "language_info": {
   "codemirror_mode": {
    "name": "ipython",
    "version": 3
   },
   "file_extension": ".py",
   "mimetype": "text/x-python",
   "name": "python",
   "nbconvert_exporter": "python",
   "pygments_lexer": "ipython3",
   "version": "3.6.5"
  }
 },
 "nbformat": 4,
 "nbformat_minor": 2
}
